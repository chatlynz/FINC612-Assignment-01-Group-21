{
  "nbformat": 4,
  "nbformat_minor": 0,
  "metadata": {
    "colab": {
      "provenance": []
    },
    "kernelspec": {
      "name": "python3",
      "display_name": "Python 3"
    },
    "language_info": {
      "name": "python"
    }
  },
  "cells": [
    {
      "cell_type": "markdown",
      "source": [
        "# Part 1: PySpark\n",
        "\n",
        "### Assignment Overview\n",
        "\n",
        "This notebook implements a **PySpark-based data analysis workflow** in 3 steps:\n",
        "\n",
        "1. **Step 1**: Load and explore the dataset using PySpark DataFrames\n",
        "2. **Step 2**: Perform SQL-style queries and aggregations using PySpark SQL\n",
        "3. **Step 3**: Analyze results and extract insights\n",
        "\n",
        "### Tools & Frameworks\n",
        "\n",
        "* **PySpark**: Distributed data processing\n",
        "* **Spark SQL**: SQL-style querying\n",
        "* **Python**: Data analysis and scripting"
      ],
      "metadata": {
        "id": "GghW4Fam4D13"
      }
    },
    {
      "cell_type": "code",
      "execution_count": 15,
      "metadata": {
        "colab": {
          "base_uri": "https://localhost:8080/"
        },
        "id": "kakwM9WQ1RuX",
        "outputId": "609a8b66-a26b-4060-d9bd-8c7efea0b2c0"
      },
      "outputs": [
        {
          "output_type": "stream",
          "name": "stdout",
          "text": [
            "Libraries imported successfully!\n",
            "PySpark version: 3.5.1\n",
            "Dataset Loaded Successfully.\n"
          ]
        }
      ],
      "source": [
        "import pyspark\n",
        "from pyspark.sql import SparkSession\n",
        "from pyspark.sql import SparkSession\n",
        "from pyspark.sql.utils import AnalysisException\n",
        "\n",
        "print(\"Libraries imported successfully!\")\n",
        "print(f\"PySpark version: {pyspark.__version__}\")\n",
        "\n",
        "spark = SparkSession.builder.appName(\"FINC612\").getOrCreate()\n",
        "\n",
        "data_path = \"sp500_constituents.json\"\n",
        "sp500_df = spark.read.json(data_path)\n",
        "sp500_df.createOrReplaceTempView(\"sp500\")\n",
        "print(\"Dataset Loaded Successfully.\")"
      ]
    },
    {
      "cell_type": "markdown",
      "source": [
        "## Step 1: Company Count by Sector in California\n",
        "\n",
        "### Objective  \n",
        "Load S&P 500 constituents and count the number of companies by sector located in California.  \n",
        "\n",
        "### Implementation  \n",
        "1. Initialize SparkSession  \n",
        "2. Load `sp500_constituents.json` into PySpark DataFrame  \n",
        "3. Register DataFrame as SQL view  \n",
        "4. Run SQL query to filter companies in California (`state = 'CA'`)  \n",
        "5. Group by `sector` and count companies  \n",
        "6. Display sector-wise counts in descending order  \n"
      ],
      "metadata": {
        "id": "iqhCcF7K5za9"
      }
    },
    {
      "cell_type": "code",
      "source": [
        "def company_count_by_sector_in_california(file_path=\"sp500_constituents.json\"):\n",
        "    \"\"\"\n",
        "    Task 1: Company Count by Sector in California\n",
        "    ------------------------------------------------\n",
        "    Load the S&P 500 constituents JSON file as a PySpark DataFrame and\n",
        "    display the number of companies by sector located in California.\n",
        "\n",
        "    Args:\n",
        "        file_path (str): Path to the JSON file containing S&P500 data.\n",
        "\n",
        "    Returns:\n",
        "        DataFrame: PySpark DataFrame showing sector-wise company counts in California.\n",
        "    \"\"\"\n",
        "    print(\"=\" * 60)\n",
        "    print(\"Task 1: Company Count by Sector in California\")\n",
        "    print(\"=\" * 60)\n",
        "\n",
        "    try:\n",
        "        # Initialize Spark session\n",
        "        spark = SparkSession.builder.appName(\"SP500 Analysis\").getOrCreate()\n",
        "        print(\"SparkSession started successfully.\")\n",
        "\n",
        "        # Load dataset\n",
        "        print(f\"Loading dataset from {file_path} ...\")\n",
        "        df = spark.read.json(file_path)\n",
        "        df.createOrReplaceTempView(\"sp500\")\n",
        "        print(\"Dataset loaded and registered as SQL view 'sp500'.\")\n",
        "\n",
        "        # Perform SQL query\n",
        "        print(\"Running SQL query to count companies by sector in California...\")\n",
        "        query = \"\"\"\n",
        "        SELECT sector, COUNT(*) AS company_count\n",
        "        FROM sp500\n",
        "        WHERE state = 'CA'\n",
        "        GROUP BY sector\n",
        "        ORDER BY company_count DESC\n",
        "        \"\"\"\n",
        "        result_df = spark.sql(query)\n",
        "\n",
        "        # Show results\n",
        "        print(\"\\nCompany count by sector in California:\")\n",
        "        result_df.show(truncate=False)\n",
        "\n",
        "        return result_df\n",
        "\n",
        "    except AnalysisException as e:\n",
        "        print(f\"SQL/Schema error: {e}\")\n",
        "        return None\n",
        "\n",
        "    except Exception as e:\n",
        "        print(f\"Error during analysis: {e}\")\n",
        "        return None\n"
      ],
      "metadata": {
        "id": "81qvN8-q1dHU"
      },
      "execution_count": 1,
      "outputs": []
    },
    {
      "cell_type": "code",
      "source": [
        "# Execute Task 1\n",
        "result_df = company_count_by_sector_in_california(\"sp500_constituents.json\")\n",
        "\n",
        "if result_df:\n",
        "    print(\"\\nTask 1 completed! Successfully retrieved company counts by sector in California.\")\n",
        "    print(\"=\" * 60)\n",
        "else:\n",
        "    print(\"Error: Unable to perform Task 1. Program terminated.\")\n",
        "    raise SystemExit\n"
      ],
      "metadata": {
        "colab": {
          "base_uri": "https://localhost:8080/"
        },
        "id": "DsgQ7-VP2FJD",
        "outputId": "ff9a90f8-854f-40cc-d7fa-1504017cd0bf"
      },
      "execution_count": 2,
      "outputs": [
        {
          "output_type": "stream",
          "name": "stdout",
          "text": [
            "============================================================\n",
            "Task 1: Company Count by Sector in California\n",
            "============================================================\n",
            "SparkSession started successfully.\n",
            "Loading dataset from sp500_constituents.json ...\n",
            "Dataset loaded and registered as SQL view 'sp500'.\n",
            "Running SQL query to count companies by sector in California...\n",
            "\n",
            "Company count by sector in California:\n",
            "+----------------------+-------------+\n",
            "|sector                |company_count|\n",
            "+----------------------+-------------+\n",
            "|Technology            |31           |\n",
            "|Healthcare            |9            |\n",
            "|Communication Services|7            |\n",
            "|Real Estate           |6            |\n",
            "|Consumer Cyclical     |5            |\n",
            "|Financial Services    |4            |\n",
            "|Utilities             |3            |\n",
            "|Consumer Defensive    |2            |\n",
            "|Energy                |1            |\n",
            "+----------------------+-------------+\n",
            "\n",
            "\n",
            "Task 1 completed! Successfully retrieved company counts by sector in California.\n",
            "============================================================\n"
          ]
        }
      ]
    },
    {
      "cell_type": "markdown",
      "source": [
        "## Step 2.1: Financial Ratios of Healthcare Companies in California\n",
        "\n",
        "### Objective  \n",
        "Extract financial ratios of Healthcare companies in California from the S&P 500 dataset.  \n",
        "\n",
        "### Implementation  \n",
        "1. Load S&P 500 JSON into PySpark DataFrame  \n",
        "2. Register as SQL view (`sp500`)  \n",
        "3. Run SQL query filtering Healthcare sector in CA  \n",
        "4. Select symbol, current ratio, quick ratio, profit margin, ROE, beta, P/B  \n",
        "5. Display results  \n"
      ],
      "metadata": {
        "id": "vfjxo6on6Bar"
      }
    },
    {
      "cell_type": "code",
      "source": [
        "def financial_ratios_healthcare_california(file_path=\"sp500_constituents.json\"):\n",
        "    \"\"\"\n",
        "    Task 2: Financial Ratios of Healthcare Companies in California\n",
        "    ----------------------------------------------------------------\n",
        "    Load the S&P 500 constituents JSON file as a PySpark DataFrame and\n",
        "    display symbol, current ratio, quick ratio, profit margin, return on equity,\n",
        "    beta, and price-to-book ratio of Healthcare companies in California.\n",
        "\n",
        "    Args:\n",
        "        file_path (str): Path to the JSON file containing S&P500 data.\n",
        "\n",
        "    Returns:\n",
        "        DataFrame: PySpark DataFrame with selected financial ratios.\n",
        "    \"\"\"\n",
        "    print(\"=\" * 60)\n",
        "    print(\"Task 2: Financial Ratios of Healthcare Companies in California\")\n",
        "    print(\"=\" * 60)\n",
        "\n",
        "    try:\n",
        "        # Initialize Spark session\n",
        "        spark = SparkSession.builder.appName(\"SP500 Analysis\").getOrCreate()\n",
        "        print(\"SparkSession started successfully.\")\n",
        "\n",
        "        # Load dataset\n",
        "        print(f\"Loading dataset from {file_path} ...\")\n",
        "        df = spark.read.json(file_path)\n",
        "        df.createOrReplaceTempView(\"sp500\")\n",
        "        print(\"Dataset loaded and registered as SQL view 'sp500'.\")\n",
        "\n",
        "        # Perform SQL query\n",
        "        print(\"Running SQL query to extract Healthcare companies' financial ratios in California...\")\n",
        "        query = \"\"\"\n",
        "        SELECT\n",
        "            symbol,\n",
        "            currentRatio       AS current_ratio,\n",
        "            quickRatio         AS quick_ratio,\n",
        "            profitMargins      AS profit_margin,\n",
        "            returnOnEquity     AS roe,\n",
        "            beta,\n",
        "            priceToBook        AS price_to_book\n",
        "        FROM sp500\n",
        "        WHERE sector = 'Healthcare'\n",
        "          AND state IN ('CA', 'California')\n",
        "        ORDER BY symbol\n",
        "        \"\"\"\n",
        "        result_df = spark.sql(query)\n",
        "\n",
        "        # Show results\n",
        "        print(\"\\nHealthcare Companies in California - Financial Ratios:\")\n",
        "        result_df.show(truncate=False)\n",
        "\n",
        "        return result_df\n",
        "\n",
        "    except Exception as e:\n",
        "        print(f\"Error during analysis: {e}\")\n",
        "        return None\n"
      ],
      "metadata": {
        "id": "aufekWjN23Xk"
      },
      "execution_count": 18,
      "outputs": []
    },
    {
      "cell_type": "code",
      "source": [
        "# Execute Task 2\n",
        "healthcare_df = financial_ratios_healthcare_california(\"sp500_constituents.json\")\n",
        "\n",
        "if healthcare_df:\n",
        "    print(\"\\nTask 2 completed! Successfully retrieved financial ratios of Healthcare companies in California.\")\n",
        "    print(\"=\" * 60)\n",
        "else:\n",
        "    print(\"Error: Unable to perform Task 2 Program terminated.\")\n",
        "    raise SystemExit\n"
      ],
      "metadata": {
        "colab": {
          "base_uri": "https://localhost:8080/"
        },
        "id": "krO8eEZP3FQb",
        "outputId": "4ecbacda-1ef9-42a6-9e9d-e54a3a972f55"
      },
      "execution_count": 19,
      "outputs": [
        {
          "output_type": "stream",
          "name": "stdout",
          "text": [
            "============================================================\n",
            "Task 2: Financial Ratios of Healthcare Companies in California\n",
            "============================================================\n",
            "SparkSession started successfully.\n",
            "Loading dataset from sp500_constituents.json ...\n",
            "Dataset loaded and registered as SQL view 'sp500'.\n",
            "Running SQL query to extract Healthcare companies' financial ratios in California...\n",
            "\n",
            "Healthcare Companies in California - Financial Ratios:\n",
            "+------+-------------+-----------+-------------+-----------+-----+-------------+\n",
            "|symbol|current_ratio|quick_ratio|profit_margin|roe        |beta |price_to_book|\n",
            "+------+-------------+-----------+-------------+-----------+-----+-------------+\n",
            "|A     |2.089        |1.478      |0.198        |0.21954    |1.071|6.54127      |\n",
            "|AMGN  |1.257        |0.843      |0.122370005  |0.67553    |0.557|28.295267    |\n",
            "|COO   |1.908        |0.806      |0.100710005  |0.050180003|0.998|2.2238133    |\n",
            "|DXCM  |1.467        |1.232      |0.14287      |0.27628002 |1.142|16.861761    |\n",
            "|EW    |NULL         |NULL       |0.76746005   |0.17097001 |1.104|4.4957986    |\n",
            "|GILD  |1.5          |1.201      |0.01669      |0.02286    |0.199|7.1882687    |\n",
            "|ISRG  |4.074        |3.077      |0.27809      |0.15621    |1.391|12.824625    |\n",
            "|MOH   |1.618        |1.556      |0.0301       |0.27069    |0.539|3.5799518    |\n",
            "|RMD   |3.329        |1.739      |0.25345      |0.25654    |0.701|6.420184     |\n",
            "+------+-------------+-----------+-------------+-----------+-----+-------------+\n",
            "\n",
            "\n",
            "Task 2 completed! Successfully retrieved financial ratios of Healthcare companies in California.\n",
            "============================================================\n"
          ]
        }
      ]
    },
    {
      "cell_type": "markdown",
      "source": [
        "### Task 3: Analyst Recommendations for Healthcare Companies in California\n",
        "- Initialize Spark session  \n",
        "- Load `sp500_constituents.json` into PySpark DataFrame  \n",
        "- Register DataFrame as SQL view `sp500`  \n",
        "- Run SQL query to filter:\n",
        "  - Sector = 'Healthcare'\n",
        "  - State = 'CA' or 'California'\n",
        "- Select required columns:\n",
        "  - symbol, analyst_opinions, recommendationKey, recommendationMean  \n",
        "  - current_price, target_low/mean/median/high_price  \n",
        "  - Calculate `target_median_profit = (targetMedianPrice / currentPrice) - 1`  \n",
        "- Order results by `recommendationMean ASC` and `analyst_opinions DESC`  \n",
        "- Display results using `.show()`  \n"
      ],
      "metadata": {
        "id": "m4LLd94e64uI"
      }
    },
    {
      "cell_type": "code",
      "source": [
        "def analyst_recommendations_healthcare_california(file_path=\"sp500_constituents.json\"):\n",
        "    \"\"\"\n",
        "    Task 3: Analyst Recommendations for Healthcare Companies in California\n",
        "    ----------------------------------------------------------------------\n",
        "    Show analyst opinions, recommendations, and price targets for all Healthcare\n",
        "    companies in California. Also calculate target median profit\n",
        "    (target_median_price / current_price - 1).\n",
        "\n",
        "    Args:\n",
        "        file_path (str): Path to the JSON file containing S&P500 data.\n",
        "\n",
        "    Returns:\n",
        "        DataFrame: PySpark DataFrame with analyst recommendations and target prices.\n",
        "    \"\"\"\n",
        "    print(\"=\" * 60)\n",
        "    print(\"Task 3: Analyst Recommendations for Healthcare Companies in California\")\n",
        "    print(\"=\" * 60)\n",
        "\n",
        "    try:\n",
        "        # Initialize Spark session\n",
        "        spark = SparkSession.builder.appName(\"SP500 Analysis\").getOrCreate()\n",
        "        print(\"SparkSession started successfully.\")\n",
        "\n",
        "        # Load dataset\n",
        "        print(f\"Loading dataset from {file_path} ...\")\n",
        "        df = spark.read.json(file_path)\n",
        "        df.createOrReplaceTempView(\"sp500\")\n",
        "        print(\"Dataset loaded and registered as SQL view 'sp500'.\")\n",
        "\n",
        "        # Perform SQL query\n",
        "        print(\"Running SQL query to extract analyst recommendations for Healthcare companies in California...\")\n",
        "        query = \"\"\"\n",
        "        SELECT\n",
        "          symbol,\n",
        "          numberOfAnalystOpinions AS analyst_opinions,\n",
        "          recommendationKey,\n",
        "          recommendationMean,\n",
        "          currentPrice                      AS current_price,\n",
        "          targetLowPrice                    AS target_low_price,\n",
        "          targetMeanPrice                   AS target_mean_price,\n",
        "          targetMedianPrice                 AS target_median_price,\n",
        "          targetHighPrice                   AS target_high_price,\n",
        "          CASE\n",
        "            WHEN currentPrice IS NOT NULL AND currentPrice <> 0\n",
        "              THEN (targetMedianPrice / currentPrice) - 1\n",
        "            ELSE NULL\n",
        "          END                               AS target_median_profit\n",
        "        FROM sp500\n",
        "        WHERE sector = 'Healthcare'\n",
        "          AND state IN ('CA', 'California')\n",
        "        ORDER BY recommendationMean ASC, analyst_opinions DESC\n",
        "        \"\"\"\n",
        "        result_df = spark.sql(query)\n",
        "\n",
        "        # Show results\n",
        "        print(\"\\nAnalyst Recommendations — Healthcare Companies in California:\")\n",
        "        result_df.show(truncate=False)\n",
        "\n",
        "        return result_df\n",
        "\n",
        "    except Exception as e:\n",
        "        print(f\"Error during analysis: {e}\")\n",
        "        return None\n"
      ],
      "metadata": {
        "id": "8b4yXC_m3cqM"
      },
      "execution_count": 11,
      "outputs": []
    },
    {
      "cell_type": "code",
      "source": [
        "# Execute Task 3\n",
        "analyst_df = analyst_recommendations_healthcare_california(\"sp500_constituents.json\")\n",
        "\n",
        "if analyst_df:\n",
        "    print(\"\\nTask 3 completed! Successfully retrieved analyst recommendations for Healthcare companies in California.\")\n",
        "    print(\"=\" * 60)\n",
        "else:\n",
        "    print(\"Error: Unable to perform Task 3. Program terminated.\")\n",
        "    raise SystemExit\n"
      ],
      "metadata": {
        "colab": {
          "base_uri": "https://localhost:8080/"
        },
        "id": "TZS5YDSV3ptr",
        "outputId": "b929451c-f54a-44b6-fabe-42a1f1ffe7ef"
      },
      "execution_count": 12,
      "outputs": [
        {
          "output_type": "stream",
          "name": "stdout",
          "text": [
            "============================================================\n",
            "Task 3: Analyst Recommendations for Healthcare Companies in California\n",
            "============================================================\n",
            "SparkSession started successfully.\n",
            "Loading dataset from sp500_constituents.json ...\n",
            "Dataset loaded and registered as SQL view 'sp500'.\n",
            "Running SQL query to extract analyst recommendations for Healthcare companies in California...\n",
            "\n",
            "Analyst Recommendations — Healthcare Companies in California:\n",
            "+------+----------------+-----------------+------------------+-------------+----------------+-----------------+-------------------+-----------------+--------------------+\n",
            "|symbol|analyst_opinions|recommendationKey|recommendationMean|current_price|target_low_price|target_mean_price|target_median_price|target_high_price|target_median_profit|\n",
            "+------+----------------+-----------------+------------------+-------------+----------------+-----------------+-------------------+-----------------+--------------------+\n",
            "|RMD   |14              |none             |NULL              |229.65       |195.0           |269.54144        |277.5              |295.0            |0.20836054866100584 |\n",
            "|DXCM  |23              |strong_buy       |1.45833           |90.75        |82.0            |101.44           |100.0              |120.0            |0.10192837465564741 |\n",
            "|GILD  |27              |buy              |1.87097           |111.03       |82.0            |107.58963        |108.0              |126.0            |-0.02728992164279931|\n",
            "|ISRG  |28              |buy              |1.9697            |591.01       |350.0           |632.52856        |640.0              |711.0            |0.08289199844334272 |\n",
            "|COO   |15              |buy              |2.0               |90.06        |90.0            |111.47467        |115.0              |125.0            |0.2769264934488118  |\n",
            "|A     |16              |buy              |2.26316           |135.28       |135.0           |152.5625         |153.0              |165.0            |0.13098758131283272 |\n",
            "|EW    |30              |buy              |2.33333           |72.76        |61.0            |80.42233         |80.0               |96.8             |0.09950522264980743 |\n",
            "|MOH   |14              |buy              |2.33333           |287.42       |279.0           |333.30856        |336.0              |382.0            |0.1690209449585971  |\n",
            "|AMGN  |26              |buy              |2.41935           |309.72       |195.0           |315.6027         |324.0              |389.0            |0.04610616040294446 |\n",
            "+------+----------------+-----------------+------------------+-------------+----------------+-----------------+-------------------+-----------------+--------------------+\n",
            "\n",
            "\n",
            "Task 3 completed! Successfully retrieved analyst recommendations for Healthcare companies in California.\n",
            "============================================================\n"
          ]
        }
      ]
    },
    {
      "cell_type": "markdown",
      "source": [
        "## Summary and Conclusions\n",
        "\n",
        "### Key Findings\n",
        "\n",
        "1. **Financial Ratios**:\n",
        "\n",
        "   * Strong liquidity (high current & quick ratios) seen in **ISRG, RMD, and A**, indicating good short-term solvency.\n",
        "   * **Profit margins** are highly dispersed, with **EW** showing extremely high margin (0.76), while **GILD** and **MOH** remain very low.\n",
        "   * **Return on Equity (ROE)** varies widely, with **AMGN** demonstrating the highest (0.67) and **COO** among the weakest (0.05).\n",
        "   * **Valuations** differ significantly — **AMGN** trades at a very high P/B (28.3), while **COO** remains relatively low (2.2).\n",
        "\n",
        "2. **Analyst Recommendations**:\n",
        "\n",
        "   * Most California Healthcare stocks carry **“buy”** consensus, with **DXCM** getting a **strong buy**.\n",
        "   * Price targets suggest meaningful **upside potential** for **COO (+27.7%)**, **RMD (+20.8%)**, and **MOH (+16.9%)**.\n",
        "   * **GILD** is the only stock with a **negative target median profit (-2.7%)**, indicating limited optimism.\n",
        "\n",
        "### Investment Implications\n",
        "\n",
        "* **Attractive Opportunities**: ISRG, COO, RMD, and MOH stand out as favorable opportunities given solid ratios and positive analyst outlook.\n",
        "* **Caution Required**: GILD presents valuation and profitability concerns despite strong analyst coverage.\n",
        "* **Risk-Reward Balance**: AMGN offers stability (high ROE) but limited upside at current valuations.\n",
        "\n",
        "### Technical Insights\n",
        "\n",
        "* **Data Integration**: Joining financial ratios with analyst recommendations provides a comprehensive company-level view.\n",
        "* **Profitability vs. Valuation**: Firms with strong profitability are not always attractively valued, requiring a balanced analysis.\n",
        "* **Analyst Signals**: Target median profit metric helps quantify market sentiment and expected performance.\n",
        "\n",
        "### Future Considerations\n",
        "\n",
        "* **Comparative Benchmarking**: Extend analysis to other sectors/states for broader context.\n",
        "* **Time-Series Monitoring**: Track quarterly changes in ratios and recommendation trends.\n",
        "* **Risk Assessment**: Consider beta exposure for portfolio construction, especially ISRG and DXCM with higher volatility.\n",
        "* **Deep Dive on Outliers**: Investigate why **EW** has extremely high profit margins and why **GILD** faces persistent analyst skepticism."
      ],
      "metadata": {
        "id": "mtfpDYBA67Uk"
      }
    }
  ]
}
